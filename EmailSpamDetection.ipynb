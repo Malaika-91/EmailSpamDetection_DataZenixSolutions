{
 "cells": [
  {
   "cell_type": "code",
   "execution_count": 46,
   "id": "c96cc0f0-a6d9-4793-ae91-33050683e8ca",
   "metadata": {},
   "outputs": [],
   "source": [
    "#Import Libraries\n",
    "import pandas as pd\n",
    "from sklearn.model_selection import train_test_split\n",
    "from sklearn.naive_bayes import MultinomialNB\n",
    "from sklearn.feature_extraction.text import TfidfVectorizer\n",
    "from sklearn.metrics import accuracy_score,classification_report\n"
   ]
  },
  {
   "cell_type": "code",
   "execution_count": 47,
   "id": "f88a38bc-7dd5-4986-a753-d1c72052239d",
   "metadata": {},
   "outputs": [
    {
     "name": "stdout",
     "output_type": "stream",
     "text": [
      "Dataset Loaded Successfully         v1                                                 v2 Unnamed: 2  \\\n",
      "0      ham  Go until jurong point, crazy.. Available only ...        NaN   \n",
      "1      ham                      Ok lar... Joking wif u oni...        NaN   \n",
      "2     spam  Free entry in 2 a wkly comp to win FA Cup fina...        NaN   \n",
      "3      ham  U dun say so early hor... U c already then say...        NaN   \n",
      "4      ham  Nah I don't think he goes to usf, he lives aro...        NaN   \n",
      "...    ...                                                ...        ...   \n",
      "5567  spam  This is the 2nd time we have tried 2 contact u...        NaN   \n",
      "5568   ham              Will Ì_ b going to esplanade fr home?        NaN   \n",
      "5569   ham  Pity, * was in mood for that. So...any other s...        NaN   \n",
      "5570   ham  The guy did some bitching but I acted like i'd...        NaN   \n",
      "5571   ham                         Rofl. Its true to its name        NaN   \n",
      "\n",
      "     Unnamed: 3 Unnamed: 4  \n",
      "0           NaN        NaN  \n",
      "1           NaN        NaN  \n",
      "2           NaN        NaN  \n",
      "3           NaN        NaN  \n",
      "4           NaN        NaN  \n",
      "...         ...        ...  \n",
      "5567        NaN        NaN  \n",
      "5568        NaN        NaN  \n",
      "5569        NaN        NaN  \n",
      "5570        NaN        NaN  \n",
      "5571        NaN        NaN  \n",
      "\n",
      "[5572 rows x 5 columns]\n"
     ]
    }
   ],
   "source": [
    "#Dtaaset Loading\n",
    "df=pd.read_csv(\"spam.csv\",encoding='latin-1')\n",
    "print(\"Dataset Loaded Successfully\",df)"
   ]
  },
  {
   "cell_type": "code",
   "execution_count": 48,
   "id": "ef54e54f-97a1-42ad-86b6-269817d17e60",
   "metadata": {},
   "outputs": [],
   "source": [
    "df=df[[\"v1\",\"v2\"]]\n",
    "df.columns=['label','message']"
   ]
  },
  {
   "cell_type": "code",
   "execution_count": 49,
   "id": "879c3444-de6f-4e02-b05d-5c230a0a25c4",
   "metadata": {},
   "outputs": [
    {
     "name": "stdout",
     "output_type": "stream",
     "text": [
      "      label                                            message\n",
      "0         0  Go until jurong point, crazy.. Available only ...\n",
      "1         0                      Ok lar... Joking wif u oni...\n",
      "2         1  Free entry in 2 a wkly comp to win FA Cup fina...\n",
      "3         0  U dun say so early hor... U c already then say...\n",
      "4         0  Nah I don't think he goes to usf, he lives aro...\n",
      "...     ...                                                ...\n",
      "5567      1  This is the 2nd time we have tried 2 contact u...\n",
      "5568      0              Will Ì_ b going to esplanade fr home?\n",
      "5569      0  Pity, * was in mood for that. So...any other s...\n",
      "5570      0  The guy did some bitching but I acted like i'd...\n",
      "5571      0                         Rofl. Its true to its name\n",
      "\n",
      "[5572 rows x 2 columns]\n"
     ]
    }
   ],
   "source": [
    "df['label']=df['label'].map({'ham': 0, 'spam': 1})\n",
    "print(df)"
   ]
  },
  {
   "cell_type": "code",
   "execution_count": 50,
   "id": "a9b73cb1-3e18-41e7-8d8f-ef1d5d8d837b",
   "metadata": {},
   "outputs": [],
   "source": [
    "#Feature Selection\n",
    "X=df['message']\n",
    "y=df['label']\n",
    "X_train,X_test,y_train,y_test=train_test_split(X,y,test_size=0.2,random_state=42)"
   ]
  },
  {
   "cell_type": "code",
   "execution_count": 51,
   "id": "011d89ff-41b4-45f3-9e88-b4fbc7093a58",
   "metadata": {},
   "outputs": [],
   "source": [
    "#Vectorization\n",
    "V=TfidfVectorizer(stop_words='english')\n",
    "X_train=V.fit_transform(X_train)\n",
    "X_test = V.transform(X_test) \n"
   ]
  },
  {
   "cell_type": "code",
   "execution_count": 52,
   "id": "4b6b7cea-f409-46c7-bb61-11837d930e7e",
   "metadata": {},
   "outputs": [],
   "source": [
    "NB=MultinomialNB()\n",
    "NB.fit(X_train,y_train)\n",
    "ypred=NB.predict(X_test)"
   ]
  },
  {
   "cell_type": "code",
   "execution_count": 53,
   "id": "08eb4146-39d3-429a-af84-0393e36f7d3a",
   "metadata": {},
   "outputs": [
    {
     "name": "stdout",
     "output_type": "stream",
     "text": [
      "Accuracy of mode is: 96.68161434977578 %\n"
     ]
    }
   ],
   "source": [
    "#Evaluation of model\n",
    "Acc=accuracy_score(y_test,ypred)\n",
    "print(\"Accuracy of mode is:\",Acc*100,\"%\")"
   ]
  },
  {
   "cell_type": "code",
   "execution_count": 56,
   "id": "6a1c20cf-9b8e-42e0-ba5e-7fd95f5192cd",
   "metadata": {},
   "outputs": [
    {
     "name": "stdout",
     "output_type": "stream",
     "text": [
      "              precision    recall  f1-score   support\n",
      "\n",
      "           0       0.96      1.00      0.98       965\n",
      "           1       1.00      0.75      0.86       150\n",
      "\n",
      "    accuracy                           0.97      1115\n",
      "   macro avg       0.98      0.88      0.92      1115\n",
      "weighted avg       0.97      0.97      0.96      1115\n",
      "\n"
     ]
    }
   ],
   "source": [
    "#Classification report\n",
    "report=classification_report(y_test,ypred)\n",
    "print(report)"
   ]
  },
  {
   "cell_type": "code",
   "execution_count": 58,
   "id": "d13ac38c-2843-4e9f-8899-32ac8ec6a8c4",
   "metadata": {},
   "outputs": [
    {
     "name": "stdout",
     "output_type": "stream",
     "text": [
      "Spam\n"
     ]
    }
   ],
   "source": [
    "#Prediction for message\n",
    "def predict(message):\n",
    "    messagevec=V.transform([message])\n",
    "    pred=NB.predict(messagevec)[0]\n",
    "    if pred==1:\n",
    "        return \"Spam\"\n",
    "    else:\n",
    "        return \"ham\"\n",
    "print(predict(\"Congratulations!You won a cash price\"))\n",
    "\n",
    "    "
   ]
  },
  {
   "cell_type": "code",
   "execution_count": 59,
   "id": "d966f85a-7614-4930-92e7-732b9f5785c5",
   "metadata": {},
   "outputs": [
    {
     "name": "stdout",
     "output_type": "stream",
     "text": [
      "ham\n"
     ]
    }
   ],
   "source": [
    "print(predict(\"Hi,How are you ,Can we meet tomorrow\"))"
   ]
  }
 ],
 "metadata": {
  "kernelspec": {
   "display_name": "Python 3 (ipykernel)",
   "language": "python",
   "name": "python3"
  },
  "language_info": {
   "codemirror_mode": {
    "name": "ipython",
    "version": 3
   },
   "file_extension": ".py",
   "mimetype": "text/x-python",
   "name": "python",
   "nbconvert_exporter": "python",
   "pygments_lexer": "ipython3",
   "version": "3.12.8"
  }
 },
 "nbformat": 4,
 "nbformat_minor": 5
}
